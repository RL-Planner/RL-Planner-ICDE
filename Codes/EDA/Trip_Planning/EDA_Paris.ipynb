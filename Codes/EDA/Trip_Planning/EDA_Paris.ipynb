{
 "cells": [
  {
   "cell_type": "code",
   "execution_count": null,
   "metadata": {
    "colab": {
     "base_uri": "https://localhost:8080/",
     "height": 221
    },
    "executionInfo": {
     "elapsed": 4172,
     "status": "ok",
     "timestamp": 1601414082237,
     "user": {
      "displayName": "Baljinder Smagh",
      "photoUrl": "",
      "userId": "16670751434212058453"
     },
     "user_tz": 240
    },
    "id": "-lFwJD1MO0Bb",
    "outputId": "126c787b-47d7-4684-b54b-ac80357abdff",
    "tags": []
   },
   "outputs": [],
   "source": [
    "import pandas as pd\n",
    "import matplotlib.pyplot as plt\n",
    "import networkx as nx\n",
    "import numpy as np\n",
    "import random \n",
    "import re\n",
    "from scipy import spatial\n",
    "%matplotlib inline\n",
    "import math \n",
    "from collections import Counter \n",
    "import nltk\n",
    "from operator import itemgetter \n",
    "from scipy.spatial import distance\n",
    "import sys\n",
    "from tqdm import tqdm\n",
    "import itertools\n",
    "from itertools import permutations \n",
    "import pylab\n",
    "import tqdm \n",
    "import time as time1\n",
    "from textblob import TextBlob\n",
    "from statistics import mean\n",
    "import pickle\n"
   ]
  },
  {
   "cell_type": "code",
   "execution_count": null,
   "metadata": {},
   "outputs": [],
   "source": [
    "#load paris rating into dataframe\n",
    "rating = pd.read_csv(\"paris_rating.csv\" , names=[\"id\" , \"Score\"]) \n",
    "\n",
    "POI=rating[\"id\"].tolist()\n",
    "rating.head()\n"
   ]
  },
  {
   "cell_type": "code",
   "execution_count": null,
   "metadata": {},
   "outputs": [],
   "source": [
    "#load paris tt into dataframe\n",
    "Time = pd.read_csv(\"paris_tt.csv\") \n",
    "Time.head()"
   ]
  },
  {
   "cell_type": "code",
   "execution_count": null,
   "metadata": {},
   "outputs": [],
   "source": [
    "#load paris visittime into dataframe\n",
    "visit_time = pd.read_csv(\"paris_visittime.csv\" , names=[\"id\" ,\"Type\", \"time\"]) \n",
    "visit_time.head()\n"
   ]
  },
  {
   "cell_type": "code",
   "execution_count": null,
   "metadata": {},
   "outputs": [],
   "source": [
    "#load paris types into dataframe\n",
    "Type = pd.read_csv(\"paris_types.csv\", names=[\"id\" , \"Type\"]) \n",
    "Type.head()"
   ]
  },
  {
   "cell_type": "code",
   "execution_count": null,
   "metadata": {},
   "outputs": [],
   "source": [
    "#load paris output into dataframe\n",
    "Distances = pd.read_csv(\"paris_output.csv\") \n",
    "Distances.head()"
   ]
  },
  {
   "cell_type": "code",
   "execution_count": null,
   "metadata": {},
   "outputs": [],
   "source": [
    "#load paris datawithtypes into dataframe\n",
    "goal=pd.read_csv(\"paris_datawithtypes.csv\", names=[\"POIs\" , \"Types\"]) \n",
    "goal.head()"
   ]
  },
  {
   "cell_type": "code",
   "execution_count": null,
   "metadata": {
    "colab": {
     "base_uri": "https://localhost:8080/",
     "height": 248
    },
    "executionInfo": {
     "elapsed": 11140,
     "status": "ok",
     "timestamp": 1601414090901,
     "user": {
      "displayName": "Baljinder Smagh",
      "photoUrl": "",
      "userId": "16670751434212058453"
     },
     "user_tz": 240
    },
    "id": "9kTp_dUrHftX",
    "outputId": "f6d6a929-15cb-4055-dd6a-0727a86ae9cd",
    "scrolled": true
   },
   "outputs": [],
   "source": [
    "#Generate a complete graph with the POIs as nodes\n",
    "\n",
    "edges=[]\n",
    "for i in POI:\n",
    "    poi=POI[:]\n",
    "    poi.remove(i)\n",
    "    for j in poi:\n",
    "        edges.append((i,j))\n",
    "\n",
    "for poi in POI:\n",
    "    edges.append(('initial' , poi))\n",
    "\n",
    "G = nx.Graph()\n",
    "G.add_edges_from(edges) \n",
    "pos = nx.spring_layout(G)\n",
    "nx.draw_networkx_nodes(G,pos, cmap=plt.get_cmap('jet'),node_size = 1000,node_color=\"lightblue\")\n",
    "nx.draw_networkx_edges(G,pos,edge_color='b', edge_cmap=plt.cm.Blues,arrows=True,arrowstyle=\"->\",arrowsize=10)\n",
    "nx.draw_networkx_labels(G,pos)\n",
    "\n",
    "plt.show()"
   ]
  },
  {
   "cell_type": "code",
   "execution_count": null,
   "metadata": {},
   "outputs": [],
   "source": [
    "# get cell value in dataframe\n",
    "\n",
    "def cellValue(df,rowName, columnName):\n",
    "    \n",
    "    index=df[df[\"id\"]==rowName].index[0]\n",
    "\n",
    "    return df.iloc[index][columnName]"
   ]
  },
  {
   "cell_type": "code",
   "execution_count": null,
   "metadata": {},
   "outputs": [],
   "source": [
    "#Calculate the visitation time of a sequence of POIs\n",
    "\n",
    "def visitTime(seq):\n",
    "    \n",
    "    total=0\n",
    "    for i in seq:\n",
    "        \n",
    "        total+=int(cellValue(visit_time ,i, \"time\"))\n",
    "        \n",
    "    return total\n",
    "        "
   ]
  },
  {
   "cell_type": "code",
   "execution_count": null,
   "metadata": {},
   "outputs": [],
   "source": [
    "#Calculate the commute time of a sequence of POIs\n",
    "\n",
    "def commuteTime(seq):\n",
    "    \n",
    "    total=0\n",
    "\n",
    "    for i in range(len(seq)-1):\n",
    "\n",
    "        total+=int(cellValue(Time ,seq[i], seq[i+1]))\n",
    "        \n",
    "    return total/60"
   ]
  },
  {
   "cell_type": "code",
   "execution_count": null,
   "metadata": {},
   "outputs": [],
   "source": [
    "def gap(List, POI):\n",
    "    \n",
    "    if cellValue(Type, POI, \"Type\") in List:\n",
    "\n",
    "        if (len(List)- get_index_positions(List,cellValue(Type, POI, \"Type\"))[0]) < 3:\n",
    "            return 0 \n",
    "        else:\n",
    "            return 1\n",
    "        \n",
    "    else:\n",
    "        return 1\n"
   ]
  },
  {
   "cell_type": "code",
   "execution_count": null,
   "metadata": {
    "executionInfo": {
     "elapsed": 11131,
     "status": "ok",
     "timestamp": 1601414090903,
     "user": {
      "displayName": "Baljinder Smagh",
      "photoUrl": "",
      "userId": "16670751434212058453"
     },
     "user_tz": 240
    },
    "id": "Yb9InaN4MqSH"
   },
   "outputs": [],
   "source": [
    "nodes={}\n",
    "for i,node in enumerate(G.nodes()):\n",
    "    nodes[i]=node"
   ]
  },
  {
   "cell_type": "code",
   "execution_count": null,
   "metadata": {
    "executionInfo": {
     "elapsed": 11118,
     "status": "ok",
     "timestamp": 1601414090904,
     "user": {
      "displayName": "Baljinder Smagh",
      "photoUrl": "",
      "userId": "16670751434212058453"
     },
     "user_tz": 240
    },
    "id": "BcA9sOq9J_2z"
   },
   "outputs": [],
   "source": [
    "def getKeysByValue(dictOfElements, valueToFind):\n",
    "    listOfItems = dictOfElements.items()\n",
    "    for item  in listOfItems:\n",
    "        if item[1] == valueToFind:\n",
    "            key=item[0]\n",
    "    return  key"
   ]
  },
  {
   "cell_type": "code",
   "execution_count": null,
   "metadata": {
    "executionInfo": {
     "elapsed": 11107,
     "status": "ok",
     "timestamp": 1601414090910,
     "user": {
      "displayName": "Baljinder Smagh",
      "photoUrl": "",
      "userId": "16670751434212058453"
     },
     "user_tz": 240
    },
    "id": "OCXi9MaWKwbn"
   },
   "outputs": [],
   "source": [
    "#Function to find key based on value in node dictionary\n",
    "def findKey(poi):\n",
    "    return list(nodes.keys())[list(nodes.values()).index(poi)]\n"
   ]
  },
  {
   "cell_type": "code",
   "execution_count": null,
   "metadata": {
    "executionInfo": {
     "elapsed": 11074,
     "status": "ok",
     "timestamp": 1601414090913,
     "user": {
      "displayName": "Baljinder Smagh",
      "photoUrl": "",
      "userId": "16670751434212058453"
     },
     "user_tz": 240
    },
    "id": "xwezTML2fieY"
   },
   "outputs": [],
   "source": [
    "def get_index_positions(list_of_elems, element):\n",
    "    ''' Returns the indexes of all occurrences of give element in\n",
    "    the list- listOfElements '''\n",
    "    index_pos_list = []\n",
    "    index_pos = 0\n",
    "    while True:\n",
    "        try:\n",
    "            # Search for item in list from indexPos to the end of list\n",
    "            index_pos = list_of_elems.index(element, index_pos)\n",
    "            # Add the index position in list\n",
    "            index_pos_list.append(index_pos)\n",
    "            index_pos += 1\n",
    "        except ValueError as e:\n",
    "            break\n",
    "    return index_pos_list"
   ]
  },
  {
   "cell_type": "code",
   "execution_count": null,
   "metadata": {
    "executionInfo": {
     "elapsed": 11064,
     "status": "ok",
     "timestamp": 1601414090914,
     "user": {
      "displayName": "Baljinder Smagh",
      "photoUrl": "",
      "userId": "16670751434212058453"
     },
     "user_tz": 240
    },
    "id": "pSDa0OBvxom0"
   },
   "outputs": [],
   "source": [
    "''' Returns the maximum number of consecutive numbers that occured in a list '''\n",
    "\n",
    "def consecutive(list_of_element,element):\n",
    "    \n",
    "    list_of_index=get_index_positions(list_of_element, element)\n",
    "    \n",
    "    occurance=[]\n",
    "    count=1\n",
    "    i=0\n",
    "    if (len( list_of_index)>=2):\n",
    "        while i < (len(list_of_index)-1):\n",
    "            if (list_of_index[i+1] == list_of_index[i]+1):\n",
    "                count+=1\n",
    "                i+=1\n",
    "            else:\n",
    "                occurance.append(count)\n",
    "                i+=1\n",
    "                count=1\n",
    "        occurance.append(count)\n",
    "\n",
    "        maximum=max(occurance)\n",
    "        length=len(list_of_element)\n",
    "        sum_list=sum(occurance)\n",
    "        occur=(sum_list * maximum) / length\n",
    "    elif (list_of_index==[]):\n",
    "        occur=0\n",
    "    else:\n",
    "        occur=list_of_element[list_of_index[0]]\n",
    "\n",
    "    return occur"
   ]
  },
  {
   "cell_type": "code",
   "execution_count": null,
   "metadata": {
    "executionInfo": {
     "elapsed": 11024,
     "status": "ok",
     "timestamp": 1601414090917,
     "user": {
      "displayName": "Baljinder Smagh",
      "photoUrl": "",
      "userId": "16670751434212058453"
     },
     "user_tz": 240
    },
    "id": "9MtJqszuNzgz"
   },
   "outputs": [],
   "source": [
    "#Class that defines the Enviornment\n",
    "#Our enviornment follows a graph based model of a data set\n",
    "\n",
    "class Env:\n",
    "    def __init__(self,input_graph,goal_vect,startState):\n",
    "        \n",
    "        self.input_graph = input_graph #NetworkX graph\n",
    "        self.goal_vect = goal_vect #Goal Vector/Features\n",
    "        self.startState = startState #Integer representing the starting state \n",
    "   \n",
    "\n",
    "  \n",
    "    def step(self,state1,action1,state1Vect, stateList,delta,beta, POI_vector,  time): # to take the action \n",
    "        \n",
    "        done = False\n",
    "\n",
    "\n",
    "        #Take a specified action and get new state \n",
    "\n",
    "        state1Vect.append(cellValue(Type , action1[1] , \"Type\"))\n",
    "        state2Vect = state1Vect[:]\n",
    "        \n",
    "\n",
    "            \n",
    "        totalTime=visitTime(POI_vector)+commuteTime(POI_vector)\n",
    "        if (totalTime >= time): #Have same num of courses as the goal vector, so terminate\n",
    "            done = True\n",
    "\n",
    "        #Calculate reward of the given move\n",
    "        rewardList=[]\n",
    "        \n",
    "        \n",
    "        \n",
    "        for i in range(len(self.goal_vect)):\n",
    "\n",
    "            if len(state2Vect)<=len(self.goal_vect[i]):\n",
    "                distance=state2Vect[len(state2Vect)-1] == self.goal_vect[i][len(state2Vect)-1]\n",
    "\n",
    "                if distance==True:\n",
    "                    stateList[i].append(1)\n",
    "                else:\n",
    "                    stateList[i].append(0)\n",
    "\n",
    "                rewardList.append(consecutive(stateList[i],1))\n",
    "\n",
    "            else:\n",
    "                continue\n",
    "\n",
    "\n",
    "\n",
    "        rewardTotal= (delta * mean(rewardList) + beta * int(cellValue(rating , action1[1] , \"Score\")))\n",
    "\n",
    "\n",
    "        state2 = action1[1]\n",
    "        # Return second state, reward,done flag\n",
    "        return state2,state2Vect,rewardTotal,stateList,done\n",
    "\n",
    " \n",
    "\n",
    "\n",
    "    def reset (self):\n",
    "    #This will reset to initial state \n",
    "    # We invoke this on each episode \n",
    "        return self.startState\n",
    "\n"
   ]
  },
  {
   "cell_type": "code",
   "execution_count": null,
   "metadata": {
    "executionInfo": {
     "elapsed": 11013,
     "status": "ok",
     "timestamp": 1601414090918,
     "user": {
      "displayName": "Baljinder Smagh",
      "photoUrl": "",
      "userId": "16670751434212058453"
     },
     "user_tz": 240
    },
    "id": "hTdKYw3onZKh"
   },
   "outputs": [],
   "source": [
    "#Define function to choose action given a state, as per policy of our paper\n",
    "#Policy is applied to the seed state on each iteration\n",
    "\n",
    "def choose_action(state,stateUTSoFar,goalVector,possible_states,stateVector, stateList,POI_vector,delta,beta, time, dis):\n",
    "  \n",
    "\n",
    "    possible_actions={}\n",
    "   # Get list of possible actions \n",
    "    for action in list(G.edges()):\n",
    "    \n",
    "        if (action[0] == state and (action[1] in possible_states)== True):\n",
    "            \n",
    "\n",
    "            a=cellValue(Distances , state , action[1])\n",
    "\n",
    "            \n",
    "            if (a <= dis): # This is distance threshold to choose action\n",
    "                possible_actions[action] = cellValue(Type, action[1] , 'Type')\n",
    "        else:\n",
    "            continue\n",
    "\n",
    "   \n",
    "    utility={}\n",
    "    for action in possible_actions:\n",
    "\n",
    "        state_vect=stateVector[:]\n",
    "        POIVector=POI_vector[:]\n",
    "        POIVector.append(action[1])\n",
    "        state_vect.append(possible_actions[action])\n",
    "        \n",
    "        \n",
    "        totalTime=visitTime(POIVector)+commuteTime(POIVector)\n",
    "        if (totalTime < time):\n",
    "\n",
    "            List=[]\n",
    "\n",
    "            state_list=copy.deepcopy(stateList)\n",
    "            for i in range(len(goalVector)):\n",
    "                \n",
    "                if len(state_vect)<=len(goalVector[i]):\n",
    "                    \n",
    "                    distance=state_vect[len(state_vect)-1] == goalVector[i][len(state_vect)-1]\n",
    "\n",
    "                    if distance==True:\n",
    "                        state_list[i].append(1)\n",
    "                    else:\n",
    "                        state_list[i].append(0)\n",
    "\n",
    "                    List.append(consecutive(state_list[i],1))\n",
    "                    \n",
    "                else:\n",
    "                    continue\n",
    "                    print(False)\n",
    "   \n",
    "            currStateUT=0\n",
    "            currStateUT= (delta * mean(List) + beta * int(cellValue(rating , action[1] , \"Score\"))) * gap(stateVector , action[1])\n",
    "            sess_utility  = currStateUT + stateUTSoFar \n",
    "            utility[action]=sess_utility\n",
    "        \n",
    "        else:\n",
    "            break\n",
    "\n",
    "\n",
    "  \n",
    "    candidate=[]\n",
    "    if (utility!={}):\n",
    "        maximum=max(utility.values())\n",
    "        for i in utility:\n",
    "            if (utility[i]==maximum):\n",
    "                candidate.append(i)\n",
    "        chosen_action = random.choice(candidate)\n",
    "        stateUTSoFar=utility[chosen_action]\n",
    "\n",
    "    else:\n",
    "        chosen_action=()\n",
    " \n",
    "\n",
    "    return chosen_action , stateUTSoFar \n"
   ]
  },
  {
   "cell_type": "code",
   "execution_count": null,
   "metadata": {},
   "outputs": [],
   "source": [
    "#Choose First action\n",
    "\n",
    "def choose_action1(state,stateUTSoFar,goalVector,possible_states,stateVector, stateList,POI_vector,delta,beta, time, dis):\n",
    "  \n",
    "\n",
    "\n",
    "    state1=random.choice(POI)\n",
    "    action=('initial' , state1)\n",
    "    state_vect=stateVector[:]\n",
    "    POIVector=POI_vector[:]\n",
    "    POIVector.append(action[1])\n",
    "    state_vect.append(cellValue(Type, action[1] , 'Type'))\n",
    "        \n",
    "\n",
    "    List=[]\n",
    "\n",
    "    state_list=copy.deepcopy(stateList)\n",
    "    for i in range(len(goalVector)):\n",
    "\n",
    "        if len(state_vect)<=len(goalVector[i]):\n",
    "\n",
    "            distance=state_vect[len(state_vect)-1] == goalVector[i][len(state_vect)-1]\n",
    "\n",
    "            if distance==True:\n",
    "                state_list[i].append(1)\n",
    "            else:\n",
    "                state_list[i].append(0)\n",
    "\n",
    "            List.append(consecutive(state_list[i],1))\n",
    "\n",
    "        else:\n",
    "            continue\n",
    "\n",
    "\n",
    "\n",
    "    currStateUT= (delta * mean(List) + beta * int(cellValue(rating , action[1] , \"Score\"))) \n",
    "    stateUTSoFar  = currStateUT + stateUTSoFar \n",
    "\n",
    "\n",
    "    return action , stateUTSoFar "
   ]
  },
  {
   "cell_type": "code",
   "execution_count": null,
   "metadata": {},
   "outputs": [],
   "source": [
    "def getIdealVector(goal , time, dis):\n",
    "    \n",
    "    idealVect_type=[]\n",
    "    idealVect=[]\n",
    "    for i in range(len(goal.index)):\n",
    "\n",
    "        if (len(goal.iloc[i][\"Types\"].split(','))>1):\n",
    "\n",
    "            idealVect_type.append(goal.iloc[i][\"Types\"].split(','))\n",
    "            idealVect.append(goal.iloc[i][\"POIs\"].split(','))\n",
    "            \n",
    "            \n",
    "    index=[]       \n",
    "    for i in range(len(idealVect)):\n",
    "        if (commuteTime(idealVect[i])+visitTime(idealVect[i])> time):\n",
    "            index.append(i)\n",
    "            \n",
    "            \n",
    "    for i in range(len(idealVect)):\n",
    "        for j in range(len(idealVect[i])-1):\n",
    "            if cellValue(Distances , idealVect[i][j] , idealVect[i][j+1]) <= dis:\n",
    "                continue\n",
    "            else:\n",
    "                index.append(i)\n",
    "    x=[]\n",
    "\n",
    "    for j in set(index):\n",
    "        x.append(idealVect_type[j])\n",
    "\n",
    "        \n",
    "    for k in x:\n",
    "        idealVect_type.remove(k)\n",
    "    \n",
    "    \n",
    "    return idealVect_type\n",
    "            \n",
    "            "
   ]
  },
  {
   "cell_type": "code",
   "execution_count": null,
   "metadata": {
    "executionInfo": {
     "elapsed": 10987,
     "status": "ok",
     "timestamp": 1601414090919,
     "user": {
      "displayName": "Baljinder Smagh",
      "photoUrl": "",
      "userId": "16670751434212058453"
     },
     "user_tz": 240
    },
    "id": "PJGYN6YZRMbz"
   },
   "outputs": [],
   "source": [
    "#Initialize parameters (Set as per preferences)\n",
    "\n",
    "time=6\n",
    "dis=5\n",
    "\n",
    "\n",
    "#Initializing the Q-matrix \n",
    "numOfStates = G.number_of_nodes() \n",
    "\n",
    "\n",
    "idealVect=getIdealVector(goal, time, dis)       \n",
    "print(len(idealVect))\n",
    " \n",
    "\n",
    "startState='initial'\n",
    "\n",
    "env = Env(G, idealVect,startState)"
   ]
  },
  {
   "cell_type": "code",
   "execution_count": null,
   "metadata": {
    "colab": {
     "base_uri": "https://localhost:8080/",
     "height": 1000
    },
    "executionInfo": {
     "elapsed": 41993,
     "status": "ok",
     "timestamp": 1601414121962,
     "user": {
      "displayName": "Baljinder Smagh",
      "photoUrl": "",
      "userId": "16670751434212058453"
     },
     "user_tz": 240
    },
    "id": "OXgKcdp6IxhN",
    "outputId": "0870abb3-3648-4a8a-ddf4-59f92385bc2a",
    "scrolled": true,
    "tags": [
     "outputPrepend"
    ]
   },
   "outputs": [],
   "source": [
    "#Do learning. \n",
    "import copy\n",
    "itinerary=[]\n",
    "\n",
    "states=POI[:]\n",
    "reward = 0\n",
    "#ideal composition weight\n",
    "delta=0.6\n",
    "beta=0.4\n",
    "\n",
    "stateUTSoFar = 0 \n",
    "state1 = env.reset()\n",
    "\n",
    "POI_vector=[]\n",
    "state1Vect = []\n",
    "stateList1=[[]]*len(idealVect)\n",
    "action1,stateUTSoFar= choose_action1(state1,stateUTSoFar,idealVect, states,state1Vect,stateList1,POI_vector,delta,beta, time, dis)\n",
    "\n",
    "POI_vector.append(action1[1])\n",
    "\n",
    "\n",
    "while True: \n",
    "\n",
    "    #Getting the next state \n",
    "\n",
    "    state2, state2Vect ,reward, stateList2, done = env.step(state1,action1,state1Vect,stateList1,delta,beta, POI_vector, time)\n",
    "    states.remove(state2)\n",
    "\n",
    "\n",
    "    #Choosing the next action \n",
    "    stateList3=copy.deepcopy(stateList2)\n",
    "    action2,stateUTSoFar= choose_action(state2,stateUTSoFar,idealVect, states, state2Vect, stateList3,POI_vector,delta,beta, time, dis) \n",
    "\n",
    "\n",
    "\n",
    "    if (action2==()):\n",
    "        print(POI_vector)\n",
    "        break\n",
    "    else:\n",
    "        POI_vector.append(action2[1])\n",
    "        itinerary.append(POI_vector)\n",
    "        \n",
    "        \n",
    "        \n",
    "    state1 = state2 \n",
    "    action1 = action2 \n",
    "    state1Vect = state2Vect\n",
    "    stateList1=stateList2\n",
    "\n",
    "    #If at the end of learning process, start another session\n",
    "    if (done==True or states==[]): \n",
    "        break\n"
   ]
  },
  {
   "cell_type": "code",
   "execution_count": null,
   "metadata": {},
   "outputs": [],
   "source": [
    "Sequence=POI_vector"
   ]
  },
  {
   "cell_type": "code",
   "execution_count": null,
   "metadata": {},
   "outputs": [],
   "source": [
    "#total time of the result\n",
    "\n",
    "totalTime=visitTime(Sequence)+commuteTime(Sequence)\n",
    "totalTime"
   ]
  },
  {
   "cell_type": "code",
   "execution_count": null,
   "metadata": {
    "scrolled": false
   },
   "outputs": [],
   "source": [
    "#Type of POIs in the result as well as the score of recommended itinerary\n",
    "\n",
    "poi_type=[]\n",
    "score=[]\n",
    "for poi in Sequence:\n",
    "    poi_type.append(cellValue(Type, poi, 'Type'))\n",
    "    score.append(cellValue(rating, poi, 'Score'))\n",
    "    \n",
    "print(score)\n",
    "print(poi_type)\n",
    "print(mean(score))"
   ]
  }
 ],
 "metadata": {
  "colab": {
   "collapsed_sections": [],
   "name": "Univ-1_DS-CT.ipynb",
   "provenance": []
  },
  "kernelspec": {
   "display_name": "Python 3",
   "language": "python",
   "name": "python3"
  },
  "language_info": {
   "codemirror_mode": {
    "name": "ipython",
    "version": 3
   },
   "file_extension": ".py",
   "mimetype": "text/x-python",
   "name": "python",
   "nbconvert_exporter": "python",
   "pygments_lexer": "ipython3",
   "version": "3.7.0"
  }
 },
 "nbformat": 4,
 "nbformat_minor": 1
}
